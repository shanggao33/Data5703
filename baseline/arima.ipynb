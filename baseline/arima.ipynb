{
 "cells": [
  {
   "cell_type": "code",
   "execution_count": 1,
   "metadata": {},
   "outputs": [],
   "source": [
    "import numpy as np\n",
    "\n",
    "def SMAPE(pred, true):\n",
    "    return np.mean(np.abs(pred - true) / (np.abs(pred) + np.abs(true)/2))"
   ]
  },
  {
   "cell_type": "code",
   "execution_count": 2,
   "metadata": {},
   "outputs": [],
   "source": [
    "import pandas as pd\n",
    "\n",
    "file_path = '../dataset/bac/'\n",
    "file_name = 'bac.csv'\n",
    "df = pd.read_csv(file_path + file_name)\n",
    "df = df[['date', 'close']]\n",
    "df_train = df[0:1410]\n",
    "df_test = df[1410:1730]\n"
   ]
  },
  {
   "cell_type": "code",
   "execution_count": 4,
   "metadata": {},
   "outputs": [
    {
     "name": "stdout",
     "output_type": "stream",
     "text": [
      "Performing stepwise search to minimize aic\n",
      " ARIMA(2,1,2)(0,0,0)[0] intercept   : AIC=146.896, Time=1.12 sec\n",
      " ARIMA(0,1,0)(0,0,0)[0] intercept   : AIC=144.786, Time=0.11 sec\n",
      " ARIMA(1,1,0)(0,0,0)[0] intercept   : AIC=145.702, Time=0.10 sec\n",
      " ARIMA(0,1,1)(0,0,0)[0] intercept   : AIC=145.739, Time=0.13 sec\n",
      " ARIMA(0,1,0)(0,0,0)[0]             : AIC=142.847, Time=0.05 sec\n",
      " ARIMA(1,1,1)(0,0,0)[0] intercept   : AIC=143.203, Time=0.40 sec\n",
      "\n",
      "Best model:  ARIMA(0,1,0)(0,0,0)[0]          \n",
      "Total fit time: 1.937 seconds\n",
      "SMAPE:  0.11407878102691141\n"
     ]
    }
   ],
   "source": [
    "# build a arima model\n",
    "import pmdarima as pm\n",
    "\n",
    "model = pm.auto_arima(df_train['close'], trace=True,\n",
    "                      error_action='ignore',\n",
    "                      suppress_warnings=True)\n",
    "\n",
    "# predict\n",
    "pred = model.predict(len(df_test))\n",
    "smape = SMAPE(pred, df_test['close'])\n",
    "print('SMAPE: ', smape)"
   ]
  }
 ],
 "metadata": {
  "kernelspec": {
   "display_name": "Python 3.9.7 ('base')",
   "language": "python",
   "name": "python3"
  },
  "language_info": {
   "codemirror_mode": {
    "name": "ipython",
    "version": 3
   },
   "file_extension": ".py",
   "mimetype": "text/x-python",
   "name": "python",
   "nbconvert_exporter": "python",
   "pygments_lexer": "ipython3",
   "version": "3.9.7"
  },
  "orig_nbformat": 4,
  "vscode": {
   "interpreter": {
    "hash": "1e0edef247045f2f5f35ac9d6435770b0c68a1ddd7eb34b4959830e587ac51e2"
   }
  }
 },
 "nbformat": 4,
 "nbformat_minor": 2
}
